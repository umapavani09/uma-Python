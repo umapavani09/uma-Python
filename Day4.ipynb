{
 "cells": [
  {
   "cell_type": "code",
   "execution_count": null,
   "metadata": {},
   "outputs": [],
   "source": [
    "#Functions in python\n",
    "#predefined  function-print,input,type,ord,chr,bin,sum,max,min,round,sorted,abs,all,pow,oct,any,next,len\n",
    "#userdefind  function\n",
    "#special     functions"
   ]
  },
  {
   "cell_type": "code",
   "execution_count": 17,
   "metadata": {},
   "outputs": [
    {
     "data": {
      "text/plain": [
       "1"
      ]
     },
     "execution_count": 17,
     "metadata": {},
     "output_type": "execute_result"
    }
   ],
   "source": [
    "a=\"python workshop\"\n",
    "b=[1,2,3,4,5]\n",
    "c=[]\n",
    "len(a)\n",
    "type(a)\n",
    "ord('z')\n",
    "bin(5)\n",
    "sum(b)\n",
    "max(a)\n",
    "min(a)\n",
    "round(10.6)\n",
    "sorted(a)\n",
    "all(c)\n",
    "any(c)\n",
    "abs(-1)"
   ]
  },
  {
   "cell_type": "markdown",
   "metadata": {},
   "source": [
    "# write a program to print given the values\n",
    "# user can Give the a-z or A-Z ---------> print Alphabet\n",
    "# user can Give the 0-9  --------> print digit\n",
    "# user can Give the @,#,$,%,^,() -------------->special symbol"
   ]
  },
  {
   "cell_type": "code",
   "execution_count": 10,
   "metadata": {},
   "outputs": [
    {
     "name": "stdout",
     "output_type": "stream",
     "text": [
      "enter u name:-uma\n",
      "enter pwd:-········\n",
      "Welcome uma\n"
     ]
    }
   ],
   "source": [
    "from getpass import getpass\n",
    "uname=input('enter u name:-')\n",
    "pwd=getpass('enter pwd:-')\n",
    "if uname==\"uma\" and pwd==\"uma@123\":\n",
    "    print('Welcome',uname)\n",
    "else:\n",
    "    print('Invalid uname or password')"
   ]
  },
  {
   "cell_type": "code",
   "execution_count": 7,
   "metadata": {},
   "outputs": [
    {
     "name": "stdout",
     "output_type": "stream",
     "text": [
      "Enter the any kind of data:-u1m2a3\n",
      "u1m2a3 alphabet\n"
     ]
    }
   ],
   "source": [
    "data= input('Enter the any kind of data:-')\n",
    "if data>='a' and data<='z' or data>='A' and data<='Z':\n",
    "    print(data, 'alphabet')\n",
    "elif data>='0' and data<='9':\n",
    "    print(dta, 'is digit')\n",
    "else:\n",
    "    print(data, 'special character')"
   ]
  },
  {
   "cell_type": "code",
   "execution_count": 13,
   "metadata": {},
   "outputs": [
    {
     "name": "stdout",
     "output_type": "stream",
     "text": [
      "welcome to python\n",
      "welcome to pythonworkshop\n"
     ]
    }
   ],
   "source": [
    "a=\"welcome to python\"\n",
    "print(a)\n",
    "#concatenation of string\n",
    "b='workshop'\n",
    "print(a+b)"
   ]
  },
  {
   "cell_type": "code",
   "execution_count": 14,
   "metadata": {},
   "outputs": [
    {
     "name": "stdout",
     "output_type": "stream",
     "text": [
      "w\n",
      "e\n",
      "l\n"
     ]
    }
   ],
   "source": [
    "#getting values\n",
    "print(a[0])\n",
    "print(a[1])\n",
    "print(a[2])"
   ]
  },
  {
   "cell_type": "code",
   "execution_count": 15,
   "metadata": {},
   "outputs": [
    {
     "name": "stdout",
     "output_type": "stream",
     "text": [
      "w\n",
      "m\n"
     ]
    }
   ],
   "source": [
    "# forward index and backward index\n",
    "# forward index\n",
    "print(a[0])\n",
    "print(a[5])"
   ]
  },
  {
   "cell_type": "code",
   "execution_count": 16,
   "metadata": {},
   "outputs": [
    {
     "name": "stdout",
     "output_type": "stream",
     "text": [
      "n\n",
      "y\n"
     ]
    }
   ],
   "source": [
    "#backward index\n",
    "print(a[-1])\n",
    "print(a[-5])"
   ]
  },
  {
   "cell_type": "code",
   "execution_count": 30,
   "metadata": {},
   "outputs": [
    {
     "name": "stdout",
     "output_type": "stream",
     "text": [
      "python programming\n",
      "python\n",
      "on\n",
      "gnimmargorp nohtyp\n",
      "pto rgamn\n",
      " \n",
      "p\n",
      "python programming\n"
     ]
    }
   ],
   "source": [
    "# slicing operation--->:\n",
    "\n",
    "name='python programming'\n",
    "print(name[:])\n",
    "print(name[0:6])\n",
    "print(name[4:6])\n",
    "print(name[::-1])\n",
    "print(name[0:17:2])\n",
    "print(name[6:7])\n",
    "print(name[0:1])\n",
    "print(name[0:])"
   ]
  },
  {
   "cell_type": "code",
   "execution_count": 100,
   "metadata": {},
   "outputs": [
    {
     "name": "stdout",
     "output_type": "stream",
     "text": [
      "Welcome To Apssdc\n",
      "Welcome To Apssdc\n"
     ]
    }
   ],
   "source": [
    "# string methods 3 ways\n",
    "# how to display string methods in python\n",
    "# by using datatype --------->str\n",
    "#print(dir(str))\n",
    "#n=''\n",
    "#print(dir(n))\n",
    "#m='hello'\n",
    "#print(dir(m))\n",
    "p='welcome'\n",
    "\n",
    "p='Welcome To Apssdc'\n",
    "#print(p. capitalize())\n",
    "#print(p.casefold())\n",
    "#print(p.swapcase())\n",
    "#print(p.count('s'))\n",
    "#print(p.index('p'))\n",
    "#print(p.find('x'))\n",
    "#print(p.center(50,'*'))\n",
    "#print('My name is {0} & i am from {1}'.format('uma','ongole'))\n",
    "#print(p.upper())\n",
    "#print(p.lower())\n",
    "#print(p.title())\n",
    "#print(p.isupper())\n",
    "#print(p.islower())\n",
    "#print(p.startswith('w'))\n",
    "#print(p.endswith('c'))\n",
    "#print(p.istitle())\n",
    "q='<--'\n",
    "#print(q.join(p))\n",
    "#print(p.isdigit())\n",
    "#print(p.isalpha())\n",
    "#print(p.isalnum())\n",
    "#print('python\\tprogramming\\tworkshop'.expandtabs())\n",
    "#print(p.split())\n",
    "#print(p.strip())\n",
    "print(p.lstrip())\n",
    "print(p.rstrip())"
   ]
  },
  {
   "cell_type": "code",
   "execution_count": null,
   "metadata": {},
   "outputs": [],
   "source": [
    "' ' 'split,spltlines,strip,lstrip,rstrip' ' '"
   ]
  },
  {
   "cell_type": "code",
   "execution_count": null,
   "metadata": {},
   "outputs": [],
   "source": []
  }
 ],
 "metadata": {
  "kernelspec": {
   "display_name": "Python 3",
   "language": "python",
   "name": "python3"
  },
  "language_info": {
   "codemirror_mode": {
    "name": "ipython",
    "version": 3
   },
   "file_extension": ".py",
   "mimetype": "text/x-python",
   "name": "python",
   "nbconvert_exporter": "python",
   "pygments_lexer": "ipython3",
   "version": "3.7.3"
  }
 },
 "nbformat": 4,
 "nbformat_minor": 2
}
