{
 "cells": [
  {
   "cell_type": "code",
   "execution_count": null,
   "metadata": {},
   "outputs": [],
   "source": [
    "a=10\n",
    "b=20\n",
    "print(a+b)\n",
    "print(a-b)\n",
    "print(a*b)\n",
    "print(a/b)#floating\n",
    "print(a//b)#integer\n",
    "print(a%b)\n",
    "print(a**b)\n",
    "print(pow(2,4))"
   ]
  },
  {
   "cell_type": "code",
   "execution_count": null,
   "metadata": {},
   "outputs": [],
   "source": [
    "#Relational and comparision Operator\n",
    "print(50>100)\n",
    "print(100<40)\n",
    "print(30>=29)\n",
    "print(40<=50)\n",
    "print(2==2)\n",
    "print(2==1)\n",
    "print(10!=5)\n",
    "print(15!=15)"
   ]
  },
  {
   "cell_type": "code",
   "execution_count": null,
   "metadata": {},
   "outputs": [],
   "source": [
    "#logical Operators AND\n",
    "print(False and False)\n",
    "print(False and True)\n",
    "print(True and False)\n",
    "print(True and True)"
   ]
  },
  {
   "cell_type": "code",
   "execution_count": null,
   "metadata": {},
   "outputs": [],
   "source": [
    "#Logical Operators OR\n",
    "print(False or False)\n",
    "print(False or True)\n",
    "print(True or False)\n",
    "print(True or True)"
   ]
  },
  {
   "cell_type": "code",
   "execution_count": null,
   "metadata": {},
   "outputs": [],
   "source": [
    "#Logical Operators NOT\n",
    "print(True)\n",
    "print(False)"
   ]
  },
  {
   "cell_type": "code",
   "execution_count": null,
   "metadata": {},
   "outputs": [],
   "source": [
    "#not with and\n",
    "print(not(False and False))\n",
    "print(not(False and True))\n",
    "print(not(True and False))\n",
    "print(not(True and True))"
   ]
  },
  {
   "cell_type": "code",
   "execution_count": null,
   "metadata": {},
   "outputs": [],
   "source": [
    "#not with or\n",
    "print(not(False or False))\n",
    "print(not(False or True))\n",
    "print(not(True or False))\n",
    "print(not(True or True))"
   ]
  },
  {
   "cell_type": "code",
   "execution_count": null,
   "metadata": {
    "scrolled": true
   },
   "outputs": [],
   "source": [
    "print(10>9 and 5<4)\n",
    "print(10==10 and 9!=9)\n",
    "print(9!=5 or 5==5)\n",
    "print(not(100>99 and 50<20))"
   ]
  },
  {
   "cell_type": "code",
   "execution_count": null,
   "metadata": {},
   "outputs": [],
   "source": [
    "#assignment Operators\n",
    "a=5\n",
    "a*=2\n",
    "a-=6\n",
    "a*4\n",
    "a/=2\n",
    "a"
   ]
  },
  {
   "cell_type": "code",
   "execution_count": null,
   "metadata": {},
   "outputs": [],
   "source": [
    "#bitwise operators &, /, ^\n",
    "2&2\n",
    "10&5\n",
    "11 | 6\n",
    "20^10\n",
    "ord('A')\n",
    "ord('a')\n",
    "chr(97)"
   ]
  },
  {
   "cell_type": "code",
   "execution_count": null,
   "metadata": {},
   "outputs": [],
   "source": [
    "#membership Operators in,not in\n",
    "s=\"Welcome to Python Workshop\"\n",
    "'to' in s\n",
    "'too' in s\n",
    "'Welcome' in s\n",
    "'Work' not in s\n",
    "'workz' not in s"
   ]
  },
  {
   "cell_type": "code",
   "execution_count": null,
   "metadata": {},
   "outputs": [],
   "source": [
    "#Identity Operator is, is not, ==, !=\n",
    "n='hello'\n",
    "m='world'\n",
    "n == m"
   ]
  },
  {
   "cell_type": "code",
   "execution_count": null,
   "metadata": {},
   "outputs": [],
   "source": [
    "#Conditional Statements in Python or Control flow statements\n",
    "#if elif else\n",
    "\n",
    "#syntax\n",
    "if (condition): \n",
    "    statements\n",
    "elif (condition):\n",
    "    statements\n",
    "else:\n",
    "    statements\n",
    "    "
   ]
  },
  {
   "cell_type": "code",
   "execution_count": null,
   "metadata": {},
   "outputs": [],
   "source": [
    "n=int(input('enter the number:- '))\n",
    "if n%2==0:\n",
    "    print(n, 'Even Number')\n",
    "else:\n",
    "    print(n, 'Odd Number')"
   ]
  },
  {
   "cell_type": "code",
   "execution_count": null,
   "metadata": {},
   "outputs": [],
   "source": [
    "n=int(input('enter the number:- '))\n",
    "if n%2!=0:\n",
    "    print(n, 'odd Number')\n",
    "else:\n",
    "    print(n, 'even Number')"
   ]
  },
  {
   "cell_type": "code",
   "execution_count": null,
   "metadata": {},
   "outputs": [],
   "source": [
    "n=int(input('Enter the day:- '))\n",
    "if n==0:\n",
    "    print('Sunday')\n",
    "elif n==1:\n",
    "    print('Monday')\n",
    "elif n==2:\n",
    "    print('Tuesday')\n",
    "elif n==3:\n",
    "    print('Wednesday')\n",
    "elif n==4:\n",
    "    print('Thursday')\n",
    "elif n==5:\n",
    "    print('Friday')\n",
    "elif n==6:\n",
    "    print('Saturday')\n",
    "else:\n",
    "    print('Invalid day')"
   ]
  },
  {
   "cell_type": "code",
   "execution_count": null,
   "metadata": {},
   "outputs": [],
   "source": [
    "#Iterations\n",
    "#For,While\n",
    "#Syntax\n",
    "\n",
    "#for variable in range (inclusive, exclusiv, step):\n",
    "    print(variablename)"
   ]
  },
  {
   "cell_type": "code",
   "execution_count": null,
   "metadata": {},
   "outputs": [],
   "source": [
    "#for temp in range(10+1):  #10+1 or 11\n",
    "#   print(temp)\n",
    "for i in range (1,100+1):\n",
    "    print(i,end=\"--<\")"
   ]
  },
  {
   "cell_type": "code",
   "execution_count": null,
   "metadata": {},
   "outputs": [],
   "source": [
    "for rev in range (100,1,-1):\n",
    "    print(rev,end=\"uma\")"
   ]
  },
  {
   "cell_type": "code",
   "execution_count": null,
   "metadata": {},
   "outputs": [],
   "source": [
    "for even in range(0,50+1,2):\n",
    "    print(even,end=' ')"
   ]
  },
  {
   "cell_type": "code",
   "execution_count": null,
   "metadata": {},
   "outputs": [],
   "source": [
    "for odd in range(1,50+1,2):\n",
    "    print(odd,end=' ')"
   ]
  },
  {
   "cell_type": "code",
   "execution_count": null,
   "metadata": {},
   "outputs": [],
   "source": [
    "for dif in range(1,100,3):\n",
    "    print(dif,end=\" \")"
   ]
  },
  {
   "cell_type": "code",
   "execution_count": null,
   "metadata": {},
   "outputs": [],
   "source": [
    "for dif in range(1,100,10):\n",
    "    print(dif,end=\" \")"
   ]
  },
  {
   "cell_type": "code",
   "execution_count": null,
   "metadata": {},
   "outputs": [],
   "source": [
    "for dif in range(0,100,10):\n",
    "    print(dif,end=\" \")"
   ]
  },
  {
   "cell_type": "code",
   "execution_count": null,
   "metadata": {},
   "outputs": [],
   "source": [
    "for mul in range(2,100,2):\n",
    "    print(mul,end=\" \")"
   ]
  },
  {
   "cell_type": "code",
   "execution_count": null,
   "metadata": {},
   "outputs": [],
   "source": [
    "for mul in range(7,100,7):\n",
    "    print(mul,end=\" \")"
   ]
  },
  {
   "cell_type": "code",
   "execution_count": null,
   "metadata": {},
   "outputs": [],
   "source": [
    "num = int(input('Enter table:- '))\n",
    "for i in range(1,10+1):\n",
    "    print(num,'*',i,'=',num*i)"
   ]
  },
  {
   "cell_type": "code",
   "execution_count": null,
   "metadata": {},
   "outputs": [],
   "source": [
    "num = int(input('Enter table:- '))\n",
    "for i in range(1,10+1):\n",
    "    print(num,'*',i,'=',num*i)"
   ]
  },
  {
   "cell_type": "code",
   "execution_count": null,
   "metadata": {},
   "outputs": [],
   "source": [
    "num=int(input('Enter how many tables:- '))\n",
    "for num in range(1,5+1):\n",
    "     for i in range(1,10+1):\n",
    "        print(num,'*',i,'=',num*i,end=\" \")"
   ]
  },
  {
   "cell_type": "code",
   "execution_count": null,
   "metadata": {},
   "outputs": [],
   "source": [
    "#Find Factorial number using for loop and whileloop"
   ]
  },
  {
   "cell_type": "code",
   "execution_count": null,
   "metadata": {},
   "outputs": [],
   "source": [
    "#Find Factorial using forloop and whileloop"
   ]
  },
  {
   "cell_type": "code",
   "execution_count": null,
   "metadata": {},
   "outputs": [],
   "source": [
    "#While loop we can execute a set of statements condition is true\n",
    "#while condition:\n",
    "    #statements"
   ]
  },
  {
   "cell_type": "code",
   "execution_count": null,
   "metadata": {},
   "outputs": [],
   "source": [
    "i=1\n",
    "while i<=19+1:\n",
    "    print(i)\n",
    "    i+=1"
   ]
  },
  {
   "cell_type": "code",
   "execution_count": null,
   "metadata": {},
   "outputs": [],
   "source": [
    "i=20\n",
    "while i>=1:\n",
    "    print(i)\n",
    "    i-=1"
   ]
  },
  {
   "cell_type": "code",
   "execution_count": null,
   "metadata": {},
   "outputs": [],
   "source": [
    "i=10\n",
    "while i>=2:\n",
    "    print(i)\n",
    "    i+=2"
   ]
  },
  {
   "cell_type": "code",
   "execution_count": 2,
   "metadata": {},
   "outputs": [
    {
     "name": "stdout",
     "output_type": "stream",
     "text": [
      "2 is even\n",
      "4 is even\n",
      "6 is even\n",
      "8 is even\n",
      "10 is even\n"
     ]
    }
   ],
   "source": [
    "#while loop using even numbers\n",
    "n=1\n",
    "while(n<=10):\n",
    "    if n%2==0:\n",
    "        print(n, \"is even\")\n",
    "        #print(n, \"is odd\")\n",
    "    n+=1"
   ]
  },
  {
   "cell_type": "code",
   "execution_count": 4,
   "metadata": {},
   "outputs": [
    {
     "name": "stdout",
     "output_type": "stream",
     "text": [
      "Enter the value20\n",
      "2 even\n",
      "4 even\n",
      "6 even\n",
      "8 even\n",
      "10 even\n",
      "12 even\n",
      "14 even\n",
      "16 even\n",
      "18 even\n",
      "20 even\n"
     ]
    }
   ],
   "source": [
    "n1=int(input('Enter the value'))\n",
    "i=1\n",
    "while i<=n1:\n",
    "    if i%2==0:\n",
    "        print(i,\"even\")\n",
    "    i+=1"
   ]
  },
  {
   "cell_type": "code",
   "execution_count": 11,
   "metadata": {},
   "outputs": [
    {
     "name": "stdout",
     "output_type": "stream",
     "text": [
      "h\n",
      "e\n",
      "o\n"
     ]
    }
   ],
   "source": [
    "#Jumping statements\n",
    "#break, continue pass\n",
    "s='hello'\n",
    "for i in s:\n",
    "    if i==\"l\":\n",
    "        continue\n",
    "    print(i)"
   ]
  },
  {
   "cell_type": "code",
   "execution_count": null,
   "metadata": {},
   "outputs": [],
   "source": [
    "def name:\n",
    "    pass"
   ]
  }
 ],
 "metadata": {
  "kernelspec": {
   "display_name": "Python 3",
   "language": "python",
   "name": "python3"
  },
  "language_info": {
   "codemirror_mode": {
    "name": "ipython",
    "version": 3
   },
   "file_extension": ".py",
   "mimetype": "text/x-python",
   "name": "python",
   "nbconvert_exporter": "python",
   "pygments_lexer": "ipython3",
   "version": "3.7.3"
  }
 },
 "nbformat": 4,
 "nbformat_minor": 2
}
