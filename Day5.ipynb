{
 "cells": [
  {
   "cell_type": "code",
   "execution_count": 4,
   "metadata": {},
   "outputs": [
    {
     "name": "stdout",
     "output_type": "stream",
     "text": [
      "choose your operation\n",
      "1.add\n",
      "2.sub\n",
      "3.mul\n",
      "4.div\n",
      "5.mod\n",
      "6.pow\n",
      "7.floor div\n",
      "choose your operation\n",
      "enter the value3\n",
      "enter the value4\n",
      "enter your choice 1/2/3/4/5/6/72\n",
      "Subtraction of %d - %d=%d (3, 4, -1)\n"
     ]
    }
   ],
   "source": [
    "print('choose your operation')\n",
    "print('1.add')\n",
    "print('2.sub')\n",
    "print('3.mul')\n",
    "print('4.div')\n",
    "print('5.mod')\n",
    "print('6.pow')\n",
    "print('7.floor div')\n",
    "print('choose your operation')\n",
    "num1=int(input('enter the value'))\n",
    "num2=int(input('enter the value'))\n",
    "choice=int(input(\"enter your choice 1/2/3/4/5/6/7\"))\n",
    "def add(num1, num2):\n",
    "    print('Addition of %d + %d =%d',(num1,num2,num1+num2))\n",
    "def sub(num1,num2):\n",
    "    print('Subtraction of %d - %d=%d',(num1,num2,num1-num2))\n",
    "def mul(num1,num2):\n",
    "    print('Multiplication of %d * %d=%d',(num1,num2,num1*num2))\n",
    "def div(num1,num2):\n",
    "    print('Division of %d / %d=%d',(num1,num2,num1/num2))\n",
    "def mod(num1,num2,):\n",
    "    print('Module of %d % %d=%d',(num1,num2,num1%num2))\n",
    "def power(num1,num2):\n",
    "    print('Power of %d ** %d=%d',(num1,num2,num1**num2))\n",
    "def floordiv(num1,num2):\n",
    "    print('Floordivision of %d // %d=%d',(num1,num2,num1//num2))\n",
    "if choice ==1:\n",
    "    add(num1,num2)\n",
    "elif choice ==2:\n",
    "    sub(num1,num2)\n",
    "elif choice ==3:\n",
    "    mul(num1,num2)\n",
    "elif choice ==4:\n",
    "    div(num1,num2)\n",
    "elif choice ==5:\n",
    "    mod(num1,num2)\n",
    "elif choice ==6:\n",
    "    power(num1,num2)\n",
    "elif choice ==7:\n",
    "    floordivision(num1,num2)\n",
    "else:\n",
    "    print('Invalid choice')"
   ]
  },
  {
   "cell_type": "code",
   "execution_count": null,
   "metadata": {},
   "outputs": [],
   "source": [
    "#list\n",
    "#list is a collection of hetrogenous data elements\n",
    "#list is mutable\n",
    "#list representation[]\n",
    "#list supports slicing--->:\n",
    "#syntax\n",
    "#variablename=[] "
   ]
  },
  {
   "cell_type": "code",
   "execution_count": 9,
   "metadata": {},
   "outputs": [
    {
     "data": {
      "text/plain": [
       "[1, 2, 3, 'hi', 'hello', 10.25]"
      ]
     },
     "execution_count": 9,
     "metadata": {},
     "output_type": "execute_result"
    }
   ],
   "source": [
    "l1=[1,2,3,'hi','hello',10.25]\n",
    "l1"
   ]
  },
  {
   "cell_type": "code",
   "execution_count": 12,
   "metadata": {},
   "outputs": [
    {
     "name": "stdout",
     "output_type": "stream",
     "text": [
      "[1, 2, 3, 'hi', 'hello', 10.25, 4, 5, 6, 'hru']\n"
     ]
    }
   ],
   "source": [
    "l2=[4,5,6,'hru']\n",
    "l3=l1+l2\n",
    "print(l3)"
   ]
  },
  {
   "cell_type": "code",
   "execution_count": 20,
   "metadata": {},
   "outputs": [
    {
     "data": {
      "text/plain": [
       "[1, 3, 'hello', 4, 6]"
      ]
     },
     "execution_count": 20,
     "metadata": {},
     "output_type": "execute_result"
    }
   ],
   "source": [
    "#forward index\n",
    "l3[3]\n",
    "l3[6]\n",
    "#backward index\n",
    "l3[-1]\n",
    "l3[-4]\n",
    "#list slicing\n",
    "l3[3:5]\n",
    "l3[::-1]\n",
    "l3[0:11:"
   ]
  },
  {
   "cell_type": "code",
   "execution_count": 35,
   "metadata": {},
   "outputs": [
    {
     "data": {
      "text/plain": [
       "11"
      ]
     },
     "execution_count": 35,
     "metadata": {},
     "output_type": "execute_result"
    }
   ],
   "source": [
    "#list methods\n",
    "dir(list)\n",
    "#append\n",
    "l3.append([11,12])\n",
    "l3.extend([13,14,15])\n",
    "l3\n",
    "l3[12][0]"
   ]
  },
  {
   "cell_type": "code",
   "execution_count": 38,
   "metadata": {},
   "outputs": [
    {
     "data": {
      "text/plain": [
       "1"
      ]
     },
     "execution_count": 38,
     "metadata": {},
     "output_type": "execute_result"
    }
   ],
   "source": [
    "l3.count(2)"
   ]
  },
  {
   "cell_type": "code",
   "execution_count": 41,
   "metadata": {},
   "outputs": [
    {
     "data": {
      "text/plain": [
       "7"
      ]
     },
     "execution_count": 41,
     "metadata": {},
     "output_type": "execute_result"
    }
   ],
   "source": [
    "l3.index(5)"
   ]
  },
  {
   "cell_type": "code",
   "execution_count": 47,
   "metadata": {},
   "outputs": [
    {
     "data": {
      "text/plain": [
       "['a', 'e', 'i', 'o', 'u']"
      ]
     },
     "execution_count": 47,
     "metadata": {},
     "output_type": "execute_result"
    }
   ],
   "source": [
    "#insert\n",
    "s=['a','o']\n",
    "s.insert(1,'e')\n",
    "s.insert(2,'i')\n",
    "s.insert(4,'u')\n",
    "s"
   ]
  },
  {
   "cell_type": "code",
   "execution_count": null,
   "metadata": {},
   "outputs": [],
   "source": [
    "#differences between pop,remove,del\n",
    "pop()--->last in first out\n",
    "remove()--->value based\n",
    "del-->index value based"
   ]
  },
  {
   "cell_type": "code",
   "execution_count": 49,
   "metadata": {},
   "outputs": [
    {
     "data": {
      "text/plain": [
       "15"
      ]
     },
     "execution_count": 49,
     "metadata": {},
     "output_type": "execute_result"
    }
   ],
   "source": [
    "l3.pop()"
   ]
  },
  {
   "cell_type": "code",
   "execution_count": 54,
   "metadata": {},
   "outputs": [
    {
     "data": {
      "text/plain": [
       "[1,\n",
       " 2,\n",
       " 3,\n",
       " 'hello',\n",
       " 10.25,\n",
       " 4,\n",
       " 5,\n",
       " 6,\n",
       " 'hru',\n",
       " 10,\n",
       " 11,\n",
       " [11, 12],\n",
       " [11, 12],\n",
       " 13,\n",
       " 14,\n",
       " 15,\n",
       " [11, 12],\n",
       " 13,\n",
       " 14,\n",
       " 15,\n",
       " [11, 12],\n",
       " 13,\n",
       " 14,\n",
       " 15,\n",
       " [11, 12],\n",
       " 13,\n",
       " 14,\n",
       " 15,\n",
       " [11, 12],\n",
       " 13,\n",
       " 14,\n",
       " 15,\n",
       " [11, 12],\n",
       " 13,\n",
       " 14]"
      ]
     },
     "execution_count": 54,
     "metadata": {},
     "output_type": "execute_result"
    }
   ],
   "source": [
    "l3"
   ]
  },
  {
   "cell_type": "code",
   "execution_count": 55,
   "metadata": {},
   "outputs": [],
   "source": [
    "del l3[12]"
   ]
  },
  {
   "cell_type": "code",
   "execution_count": 56,
   "metadata": {
    "scrolled": false
   },
   "outputs": [
    {
     "data": {
      "text/plain": [
       "[1,\n",
       " 2,\n",
       " 3,\n",
       " 'hello',\n",
       " 10.25,\n",
       " 4,\n",
       " 5,\n",
       " 6,\n",
       " 'hru',\n",
       " 10,\n",
       " 11,\n",
       " [11, 12],\n",
       " 13,\n",
       " 14,\n",
       " 15,\n",
       " [11, 12],\n",
       " 13,\n",
       " 14,\n",
       " 15,\n",
       " [11, 12],\n",
       " 13,\n",
       " 14,\n",
       " 15,\n",
       " [11, 12],\n",
       " 13,\n",
       " 14,\n",
       " 15,\n",
       " [11, 12],\n",
       " 13,\n",
       " 14,\n",
       " 15,\n",
       " [11, 12],\n",
       " 13,\n",
       " 14]"
      ]
     },
     "execution_count": 56,
     "metadata": {},
     "output_type": "execute_result"
    }
   ],
   "source": [
    "l3"
   ]
  },
  {
   "cell_type": "code",
   "execution_count": 58,
   "metadata": {
    "scrolled": false
   },
   "outputs": [
    {
     "data": {
      "text/plain": [
       "[1, 1, 4, 4, 7, 8, 9]"
      ]
     },
     "execution_count": 58,
     "metadata": {},
     "output_type": "execute_result"
    }
   ],
   "source": [
    "#sort\n",
    "l4=[4,7,8,1,4,9,1]\n",
    "l4.sort()\n",
    "l4"
   ]
  },
  {
   "cell_type": "code",
   "execution_count": 61,
   "metadata": {},
   "outputs": [
    {
     "data": {
      "text/plain": [
       "[1, 1, 4, 4, 7, 8, 9]"
      ]
     },
     "execution_count": 61,
     "metadata": {},
     "output_type": "execute_result"
    }
   ],
   "source": [
    "#Reverse\n",
    "l4.sort(reverse=False)\n",
    "l4.sort(reverse=False)\n",
    "l4"
   ]
  },
  {
   "cell_type": "code",
   "execution_count": 62,
   "metadata": {},
   "outputs": [
    {
     "data": {
      "text/plain": [
       "[1,\n",
       " 2,\n",
       " 3,\n",
       " 'hello',\n",
       " 10.25,\n",
       " 4,\n",
       " 5,\n",
       " 6,\n",
       " 'hru',\n",
       " 10,\n",
       " 11,\n",
       " [11, 12],\n",
       " 13,\n",
       " 14,\n",
       " 15,\n",
       " [11, 12],\n",
       " 13,\n",
       " 14,\n",
       " 15,\n",
       " [11, 12],\n",
       " 13,\n",
       " 14,\n",
       " 15,\n",
       " [11, 12],\n",
       " 13,\n",
       " 14,\n",
       " 15,\n",
       " [11, 12],\n",
       " 13,\n",
       " 14,\n",
       " 15,\n",
       " [11, 12],\n",
       " 13,\n",
       " 14]"
      ]
     },
     "execution_count": 62,
     "metadata": {},
     "output_type": "execute_result"
    }
   ],
   "source": [
    "#copy 1. =, 2. copy method\n",
    "l5=l3\n",
    "l5\n",
    "l3"
   ]
  },
  {
   "cell_type": "code",
   "execution_count": 63,
   "metadata": {
    "scrolled": false
   },
   "outputs": [
    {
     "data": {
      "text/plain": [
       "[1,\n",
       " 2,\n",
       " 3,\n",
       " 'hello',\n",
       " 10.25,\n",
       " 4,\n",
       " 5,\n",
       " 6,\n",
       " 'hru',\n",
       " 10,\n",
       " 11,\n",
       " [11, 12],\n",
       " 13,\n",
       " 14,\n",
       " 15,\n",
       " [11, 12],\n",
       " 13,\n",
       " 14,\n",
       " 15,\n",
       " [11, 12],\n",
       " 13,\n",
       " 14,\n",
       " 15,\n",
       " [11, 12],\n",
       " 13,\n",
       " 14,\n",
       " 15,\n",
       " [11, 12],\n",
       " 13,\n",
       " 14,\n",
       " 15,\n",
       " [11, 12],\n",
       " 13,\n",
       " 14]"
      ]
     },
     "execution_count": 63,
     "metadata": {},
     "output_type": "execute_result"
    }
   ],
   "source": [
    "l6=l3.copy()\n",
    "l6"
   ]
  },
  {
   "cell_type": "code",
   "execution_count": 64,
   "metadata": {},
   "outputs": [
    {
     "data": {
      "text/plain": [
       "[1,\n",
       " 2,\n",
       " 3,\n",
       " 'hello',\n",
       " 10.25,\n",
       " 4,\n",
       " 5,\n",
       " 6,\n",
       " 'hru',\n",
       " 10,\n",
       " 11,\n",
       " [11, 12],\n",
       " 13,\n",
       " 14,\n",
       " 15,\n",
       " [11, 12],\n",
       " 13,\n",
       " 14,\n",
       " 15,\n",
       " [11, 12],\n",
       " 13,\n",
       " 14,\n",
       " 15,\n",
       " [11, 12],\n",
       " 13,\n",
       " 14,\n",
       " 15,\n",
       " [11, 12],\n",
       " 13,\n",
       " 14,\n",
       " 15,\n",
       " [11, 12],\n",
       " 13,\n",
       " 14,\n",
       " 14]"
      ]
     },
     "execution_count": 64,
     "metadata": {},
     "output_type": "execute_result"
    }
   ],
   "source": [
    "l3.append(14)\n",
    "l3"
   ]
  },
  {
   "cell_type": "code",
   "execution_count": 65,
   "metadata": {},
   "outputs": [
    {
     "data": {
      "text/plain": [
       "[1,\n",
       " 2,\n",
       " 3,\n",
       " 'hello',\n",
       " 10.25,\n",
       " 4,\n",
       " 5,\n",
       " 6,\n",
       " 'hru',\n",
       " 10,\n",
       " 11,\n",
       " [11, 12],\n",
       " 13,\n",
       " 14,\n",
       " 15,\n",
       " [11, 12],\n",
       " 13,\n",
       " 14,\n",
       " 15,\n",
       " [11, 12],\n",
       " 13,\n",
       " 14,\n",
       " 15,\n",
       " [11, 12],\n",
       " 13,\n",
       " 14,\n",
       " 15,\n",
       " [11, 12],\n",
       " 13,\n",
       " 14,\n",
       " 15,\n",
       " [11, 12],\n",
       " 13,\n",
       " 14,\n",
       " 14]"
      ]
     },
     "execution_count": 65,
     "metadata": {},
     "output_type": "execute_result"
    }
   ],
   "source": [
    "l5"
   ]
  },
  {
   "cell_type": "code",
   "execution_count": 66,
   "metadata": {},
   "outputs": [
    {
     "data": {
      "text/plain": [
       "[1,\n",
       " 2,\n",
       " 3,\n",
       " 'hello',\n",
       " 10.25,\n",
       " 4,\n",
       " 5,\n",
       " 6,\n",
       " 'hru',\n",
       " 10,\n",
       " 11,\n",
       " [11, 12],\n",
       " 13,\n",
       " 14,\n",
       " 15,\n",
       " [11, 12],\n",
       " 13,\n",
       " 14,\n",
       " 15,\n",
       " [11, 12],\n",
       " 13,\n",
       " 14,\n",
       " 15,\n",
       " [11, 12],\n",
       " 13,\n",
       " 14,\n",
       " 15,\n",
       " [11, 12],\n",
       " 13,\n",
       " 14,\n",
       " 15,\n",
       " [11, 12],\n",
       " 13,\n",
       " 14]"
      ]
     },
     "execution_count": 66,
     "metadata": {},
     "output_type": "execute_result"
    }
   ],
   "source": [
    "l6"
   ]
  },
  {
   "cell_type": "code",
   "execution_count": 67,
   "metadata": {},
   "outputs": [
    {
     "data": {
      "text/plain": [
       "[]"
      ]
     },
     "execution_count": 67,
     "metadata": {},
     "output_type": "execute_result"
    }
   ],
   "source": [
    "l3.clear()\n",
    "l3"
   ]
  },
  {
   "cell_type": "code",
   "execution_count": 68,
   "metadata": {},
   "outputs": [
    {
     "data": {
      "text/plain": [
       "[1, 1, 4, 4, 7, 8, 9]"
      ]
     },
     "execution_count": 68,
     "metadata": {},
     "output_type": "execute_result"
    }
   ],
   "source": [
    "l4"
   ]
  },
  {
   "cell_type": "code",
   "execution_count": 69,
   "metadata": {},
   "outputs": [
    {
     "data": {
      "text/plain": [
       "[1, 2, 4, 4, 7, 8, 9]"
      ]
     },
     "execution_count": 69,
     "metadata": {},
     "output_type": "execute_result"
    }
   ],
   "source": [
    "l4[1]=2\n",
    "l4"
   ]
  },
  {
   "cell_type": "code",
   "execution_count": 71,
   "metadata": {},
   "outputs": [
    {
     "data": {
      "text/plain": [
       "[1, 2, 3, 4, 7, 8, 9]"
      ]
     },
     "execution_count": 71,
     "metadata": {},
     "output_type": "execute_result"
    }
   ],
   "source": [
    "l4[2]=3\n",
    "l4"
   ]
  },
  {
   "cell_type": "code",
   "execution_count": null,
   "metadata": {},
   "outputs": [],
   "source": [
    "# Tuuples\n",
    "# tuples is a collection of heterogeneous of data elements\n",
    "# tuples is immutable\n",
    "# tuple representation()\n",
    "# tuple supports slicing-->:\n",
    "# syntax\n",
    "# variable=()"
   ]
  },
  {
   "cell_type": "code",
   "execution_count": 72,
   "metadata": {},
   "outputs": [
    {
     "data": {
      "text/plain": [
       "(1, 2, 'welcome', 'workshop', 45.25, 4, 6)"
      ]
     },
     "execution_count": 72,
     "metadata": {},
     "output_type": "execute_result"
    }
   ],
   "source": [
    "tup=(1,2,'welcome','workshop',45.25,4,6)\n",
    "#type(tup)\n",
    "tup"
   ]
  },
  {
   "cell_type": "code",
   "execution_count": 79,
   "metadata": {},
   "outputs": [
    {
     "data": {
      "text/plain": [
       "(6, 4, 45.25, 'workshop', 'welcome', 2, 1)"
      ]
     },
     "execution_count": 79,
     "metadata": {},
     "output_type": "execute_result"
    }
   ],
   "source": [
    "tup[2]\n",
    "tup[5]\n",
    "tup[-2]\n",
    "tup[-5]\n",
    "# slicing operation\n",
    "tup[0:]\n",
    "tup[:]\n",
    "tup[::-1]"
   ]
  },
  {
   "cell_type": "code",
   "execution_count": 80,
   "metadata": {},
   "outputs": [
    {
     "data": {
      "text/plain": [
       "['__add__',\n",
       " '__class__',\n",
       " '__contains__',\n",
       " '__delattr__',\n",
       " '__dir__',\n",
       " '__doc__',\n",
       " '__eq__',\n",
       " '__format__',\n",
       " '__ge__',\n",
       " '__getattribute__',\n",
       " '__getitem__',\n",
       " '__getnewargs__',\n",
       " '__gt__',\n",
       " '__hash__',\n",
       " '__init__',\n",
       " '__init_subclass__',\n",
       " '__iter__',\n",
       " '__le__',\n",
       " '__len__',\n",
       " '__lt__',\n",
       " '__mul__',\n",
       " '__ne__',\n",
       " '__new__',\n",
       " '__reduce__',\n",
       " '__reduce_ex__',\n",
       " '__repr__',\n",
       " '__rmul__',\n",
       " '__setattr__',\n",
       " '__sizeof__',\n",
       " '__str__',\n",
       " '__subclasshook__',\n",
       " 'count',\n",
       " 'index']"
      ]
     },
     "execution_count": 80,
     "metadata": {},
     "output_type": "execute_result"
    }
   ],
   "source": [
    "#tuple methods\n",
    "dir(tup)"
   ]
  },
  {
   "cell_type": "code",
   "execution_count": 82,
   "metadata": {},
   "outputs": [
    {
     "name": "stdout",
     "output_type": "stream",
     "text": [
      "Ao0645\n",
      "Apssdc\n",
      "ongole\n"
     ]
    }
   ],
   "source": [
    "# packing & unpacking\n",
    "emp=('Ao0645','abc','development','Apssdc','ongole')\n",
    "(eid,name,disg,comp,place)=emp\n",
    "print(eid)\n",
    "print(comp)\n",
    "print(place)"
   ]
  },
  {
   "cell_type": "code",
   "execution_count": 84,
   "metadata": {},
   "outputs": [
    {
     "data": {
      "text/plain": [
       "(1, 2, 'welcome', 'workshop', 45.25, 4, 6)"
      ]
     },
     "execution_count": 84,
     "metadata": {},
     "output_type": "execute_result"
    }
   ],
   "source": [
    "tup"
   ]
  },
  {
   "cell_type": "code",
   "execution_count": null,
   "metadata": {},
   "outputs": [],
   "source": [
    "# Dictionary\n",
    "# Dictionary is a unordered collection of different data items\\\n",
    "# in Dictionary we have two pairs of key & values\n",
    "# key is fixed \n",
    "# value will be changed\n",
    "# syntax of dictionary\n",
    "     #varname={key:value}\n",
    "# dictionary representation--->{}\n"
   ]
  },
  {
   "cell_type": "code",
   "execution_count": 88,
   "metadata": {},
   "outputs": [
    {
     "data": {
      "text/plain": [
       "{'name': 'sai', 'place': 'ongole'}"
      ]
     },
     "execution_count": 88,
     "metadata": {},
     "output_type": "execute_result"
    }
   ],
   "source": [
    "address={'name':'sai','place':'ongole'}\n",
    "address\n"
   ]
  },
  {
   "cell_type": "code",
   "execution_count": 90,
   "metadata": {},
   "outputs": [
    {
     "data": {
      "text/plain": [
       "{'name': 'sai', 'place': 'ongole', 'pincode': 523001}"
      ]
     },
     "execution_count": 90,
     "metadata": {},
     "output_type": "execute_result"
    }
   ],
   "source": [
    "address['pincode']=523001\n",
    "address"
   ]
  },
  {
   "cell_type": "code",
   "execution_count": 91,
   "metadata": {},
   "outputs": [
    {
     "data": {
      "text/plain": [
       "['__class__',\n",
       " '__contains__',\n",
       " '__delattr__',\n",
       " '__delitem__',\n",
       " '__dir__',\n",
       " '__doc__',\n",
       " '__eq__',\n",
       " '__format__',\n",
       " '__ge__',\n",
       " '__getattribute__',\n",
       " '__getitem__',\n",
       " '__gt__',\n",
       " '__hash__',\n",
       " '__init__',\n",
       " '__init_subclass__',\n",
       " '__iter__',\n",
       " '__le__',\n",
       " '__len__',\n",
       " '__lt__',\n",
       " '__ne__',\n",
       " '__new__',\n",
       " '__reduce__',\n",
       " '__reduce_ex__',\n",
       " '__repr__',\n",
       " '__setattr__',\n",
       " '__setitem__',\n",
       " '__sizeof__',\n",
       " '__str__',\n",
       " '__subclasshook__',\n",
       " 'clear',\n",
       " 'copy',\n",
       " 'fromkeys',\n",
       " 'get',\n",
       " 'items',\n",
       " 'keys',\n",
       " 'pop',\n",
       " 'popitem',\n",
       " 'setdefault',\n",
       " 'update',\n",
       " 'values']"
      ]
     },
     "execution_count": 91,
     "metadata": {},
     "output_type": "execute_result"
    }
   ],
   "source": [
    "dir(dict)"
   ]
  },
  {
   "cell_type": "code",
   "execution_count": 93,
   "metadata": {},
   "outputs": [
    {
     "data": {
      "text/plain": [
       "dict_keys(['name', 'place', 'pincode'])"
      ]
     },
     "execution_count": 93,
     "metadata": {},
     "output_type": "execute_result"
    }
   ],
   "source": [
    "address.keys()"
   ]
  },
  {
   "cell_type": "code",
   "execution_count": 94,
   "metadata": {},
   "outputs": [
    {
     "data": {
      "text/plain": [
       "dict_values(['sai', 'ongole', 523001])"
      ]
     },
     "execution_count": 94,
     "metadata": {},
     "output_type": "execute_result"
    }
   ],
   "source": [
    "address.values()"
   ]
  },
  {
   "cell_type": "code",
   "execution_count": 95,
   "metadata": {},
   "outputs": [
    {
     "data": {
      "text/plain": [
       "dict_items([('name', 'sai'), ('place', 'ongole'), ('pincode', 523001)])"
      ]
     },
     "execution_count": 95,
     "metadata": {},
     "output_type": "execute_result"
    }
   ],
   "source": [
    "address.items()"
   ]
  },
  {
   "cell_type": "code",
   "execution_count": 96,
   "metadata": {},
   "outputs": [
    {
     "data": {
      "text/plain": [
       "'sai'"
      ]
     },
     "execution_count": 96,
     "metadata": {},
     "output_type": "execute_result"
    }
   ],
   "source": [
    "address.get('name')"
   ]
  },
  {
   "cell_type": "code",
   "execution_count": 97,
   "metadata": {},
   "outputs": [
    {
     "data": {
      "text/plain": [
       "('pincode', 523001)"
      ]
     },
     "execution_count": 97,
     "metadata": {},
     "output_type": "execute_result"
    }
   ],
   "source": [
    "address.popitem()"
   ]
  },
  {
   "cell_type": "code",
   "execution_count": 98,
   "metadata": {},
   "outputs": [
    {
     "data": {
      "text/plain": [
       "{'name': 'sai', 'place': 'ongole'}"
      ]
     },
     "execution_count": 98,
     "metadata": {},
     "output_type": "execute_result"
    }
   ],
   "source": [
    "\n",
    "address"
   ]
  },
  {
   "cell_type": "code",
   "execution_count": 99,
   "metadata": {},
   "outputs": [
    {
     "data": {
      "text/plain": [
       "'ongole'"
      ]
     },
     "execution_count": 99,
     "metadata": {},
     "output_type": "execute_result"
    }
   ],
   "source": [
    "address.pop('place')"
   ]
  },
  {
   "cell_type": "code",
   "execution_count": 100,
   "metadata": {},
   "outputs": [
    {
     "data": {
      "text/plain": [
       "{'name': 'sai'}"
      ]
     },
     "execution_count": 100,
     "metadata": {},
     "output_type": "execute_result"
    }
   ],
   "source": [
    "address"
   ]
  },
  {
   "cell_type": "code",
   "execution_count": 128,
   "metadata": {},
   "outputs": [
    {
     "data": {
      "text/plain": [
       "{'place': 'Ongole', 'pincode': 523001, 'street': 'xyz'}"
      ]
     },
     "execution_count": 128,
     "metadata": {},
     "output_type": "execute_result"
    }
   ],
   "source": [
    "address2={'place':'Ongole','pincode':523001,'street':'xyz'}\n",
    "address2"
   ]
  },
  {
   "cell_type": "code",
   "execution_count": null,
   "metadata": {},
   "outputs": [],
   "source": [
    "address.update(addres2)"
   ]
  },
  {
   "cell_type": "code",
   "execution_count": 105,
   "metadata": {},
   "outputs": [
    {
     "data": {
      "text/plain": [
       "{'name': 'sai'}"
      ]
     },
     "execution_count": 105,
     "metadata": {},
     "output_type": "execute_result"
    }
   ],
   "source": [
    "address"
   ]
  },
  {
   "cell_type": "code",
   "execution_count": 106,
   "metadata": {},
   "outputs": [],
   "source": [
    "address['name']='sairam'"
   ]
  },
  {
   "cell_type": "code",
   "execution_count": 107,
   "metadata": {},
   "outputs": [
    {
     "data": {
      "text/plain": [
       "{'name': None}"
      ]
     },
     "execution_count": 107,
     "metadata": {},
     "output_type": "execute_result"
    }
   ],
   "source": [
    "address3=dict.fromkeys(address)\n",
    "address3"
   ]
  },
  {
   "cell_type": "code",
   "execution_count": null,
   "metadata": {},
   "outputs": [],
   "source": [
    "#set\n",
    "\n",
    "#syntax\n",
    "#var={1,2,3,4}"
   ]
  },
  {
   "cell_type": "code",
   "execution_count": 111,
   "metadata": {},
   "outputs": [
    {
     "data": {
      "text/plain": [
       "{1, 2, 3, 4, 5, 6, 7, 8, 10, 11}"
      ]
     },
     "execution_count": 111,
     "metadata": {},
     "output_type": "execute_result"
    }
   ],
   "source": [
    "a={1,2,3,1,2,3,4,6,7,8,5,10,11}\n",
    "a"
   ]
  },
  {
   "cell_type": "code",
   "execution_count": 109,
   "metadata": {},
   "outputs": [
    {
     "data": {
      "text/plain": [
       "{10, 11, 12, 13, 14}"
      ]
     },
     "execution_count": 109,
     "metadata": {},
     "output_type": "execute_result"
    }
   ],
   "source": [
    "b={10,11,12,13,14}\n",
    "b"
   ]
  },
  {
   "cell_type": "code",
   "execution_count": 110,
   "metadata": {},
   "outputs": [
    {
     "data": {
      "text/plain": [
       "['__and__',\n",
       " '__class__',\n",
       " '__contains__',\n",
       " '__delattr__',\n",
       " '__dir__',\n",
       " '__doc__',\n",
       " '__eq__',\n",
       " '__format__',\n",
       " '__ge__',\n",
       " '__getattribute__',\n",
       " '__gt__',\n",
       " '__hash__',\n",
       " '__iand__',\n",
       " '__init__',\n",
       " '__init_subclass__',\n",
       " '__ior__',\n",
       " '__isub__',\n",
       " '__iter__',\n",
       " '__ixor__',\n",
       " '__le__',\n",
       " '__len__',\n",
       " '__lt__',\n",
       " '__ne__',\n",
       " '__new__',\n",
       " '__or__',\n",
       " '__rand__',\n",
       " '__reduce__',\n",
       " '__reduce_ex__',\n",
       " '__repr__',\n",
       " '__ror__',\n",
       " '__rsub__',\n",
       " '__rxor__',\n",
       " '__setattr__',\n",
       " '__sizeof__',\n",
       " '__str__',\n",
       " '__sub__',\n",
       " '__subclasshook__',\n",
       " '__xor__',\n",
       " 'add',\n",
       " 'clear',\n",
       " 'copy',\n",
       " 'difference',\n",
       " 'difference_update',\n",
       " 'discard',\n",
       " 'intersection',\n",
       " 'intersection_update',\n",
       " 'isdisjoint',\n",
       " 'issubset',\n",
       " 'issuperset',\n",
       " 'pop',\n",
       " 'remove',\n",
       " 'symmetric_difference',\n",
       " 'symmetric_difference_update',\n",
       " 'union',\n",
       " 'update']"
      ]
     },
     "execution_count": 110,
     "metadata": {},
     "output_type": "execute_result"
    }
   ],
   "source": [
    "dir(a)"
   ]
  },
  {
   "cell_type": "code",
   "execution_count": 112,
   "metadata": {},
   "outputs": [
    {
     "data": {
      "text/plain": [
       "{1, 2, 3, 4, 5, 6, 7, 8, 10, 11, 12, 13, 14}"
      ]
     },
     "execution_count": 112,
     "metadata": {},
     "output_type": "execute_result"
    }
   ],
   "source": [
    "a.union(b)"
   ]
  },
  {
   "cell_type": "code",
   "execution_count": 113,
   "metadata": {},
   "outputs": [
    {
     "data": {
      "text/plain": [
       "{10, 11}"
      ]
     },
     "execution_count": 113,
     "metadata": {},
     "output_type": "execute_result"
    }
   ],
   "source": [
    "a.intersection(b)"
   ]
  },
  {
   "cell_type": "code",
   "execution_count": 115,
   "metadata": {},
   "outputs": [
    {
     "data": {
      "text/plain": [
       "{12, 13, 14}"
      ]
     },
     "execution_count": 115,
     "metadata": {},
     "output_type": "execute_result"
    }
   ],
   "source": [
    "a.difference(b)\n",
    "b.difference(a)"
   ]
  },
  {
   "cell_type": "code",
   "execution_count": 117,
   "metadata": {},
   "outputs": [
    {
     "data": {
      "text/plain": [
       "{1, 2, 3, 4, 5, 6, 7, 8, 9, 10, 11, 17}"
      ]
     },
     "execution_count": 117,
     "metadata": {},
     "output_type": "execute_result"
    }
   ],
   "source": [
    "a.add(17)\n",
    "a"
   ]
  },
  {
   "cell_type": "code",
   "execution_count": 118,
   "metadata": {},
   "outputs": [
    {
     "data": {
      "text/plain": [
       "{1, 2, 3, 4, 5, 6, 7, 8, 9, 10, 17}"
      ]
     },
     "execution_count": 118,
     "metadata": {},
     "output_type": "execute_result"
    }
   ],
   "source": [
    "a.discard(11)\n",
    "a"
   ]
  },
  {
   "cell_type": "code",
   "execution_count": 119,
   "metadata": {},
   "outputs": [
    {
     "data": {
      "text/plain": [
       "1"
      ]
     },
     "execution_count": 119,
     "metadata": {},
     "output_type": "execute_result"
    }
   ],
   "source": [
    "a.pop()"
   ]
  },
  {
   "cell_type": "code",
   "execution_count": 125,
   "metadata": {},
   "outputs": [
    {
     "data": {
      "text/plain": [
       "[0, 1, 2, 3, 4, 5, 6, 7, 8, 9, 10, 11, 12, 13, 14, 15, 16, 17, 18, 19, 20]"
      ]
     },
     "execution_count": 125,
     "metadata": {},
     "output_type": "execute_result"
    }
   ],
   "source": [
    "#list comprehensions\n",
    "# written single line of code\n",
    "#for temp in range(0,10):\n",
    " #   print(temp)\n",
    "d=[i for i in range(0,10)]\n",
    "d\n",
    "list(i for i in range(0,20+1))"
   ]
  },
  {
   "cell_type": "code",
   "execution_count": 127,
   "metadata": {},
   "outputs": [
    {
     "data": {
      "text/plain": [
       "[1,\n",
       " 3,\n",
       " 5,\n",
       " 7,\n",
       " 9,\n",
       " 11,\n",
       " 13,\n",
       " 15,\n",
       " 17,\n",
       " 19,\n",
       " 21,\n",
       " 23,\n",
       " 25,\n",
       " 27,\n",
       " 29,\n",
       " 31,\n",
       " 33,\n",
       " 35,\n",
       " 37,\n",
       " 39,\n",
       " 41,\n",
       " 43,\n",
       " 45,\n",
       " 47,\n",
       " 49]"
      ]
     },
     "execution_count": 127,
     "metadata": {},
     "output_type": "execute_result"
    }
   ],
   "source": [
    "# how to print even numbers in single line code\n",
    "list(i for i in range(0,50+1) if i%2==0)\n",
    "list(i for i in range(0,50+1) if i%2==1)"
   ]
  },
  {
   "cell_type": "code",
   "execution_count": null,
   "metadata": {},
   "outputs": [],
   "source": [
    "# Regular Expressions\n",
    "# Regular expression is nothing patterns\n",
    "# in regular expressions we can implement password,email,mobile number, validations\n",
    "#\\d--->matches digits\n",
    "#\\D--->except digits\n",
    "\n",
    "#\\W--->special digits\n",
    "#\\w--->except special symbol\n",
    "\n",
    "# we will use regular expression we can import re module\n",
    "\n",
    "# methods are search,findall,match\n",
    "\n",
    "# syntax regular expression\n",
    "\n",
    "# modulename.methodname(pattern,value or variablename)"
   ]
  },
  {
   "cell_type": "code",
   "execution_count": 157,
   "metadata": {
    "scrolled": false
   },
   "outputs": [],
   "source": [
    "import re\n",
    "re.search('^k','knowledge&nonviolance')\n",
    "re.search('e$','knowledge&nonviolance')\n",
    "re.search('.....................','knowledge&nonviolance')\n",
    "re.search('\\s','knowledge & nonviolance')\n",
    "re.findall('\\s','knowledge & nonviolance')\n",
    "re.findall('\\S','knowledge & nonviolance')\n",
    "re.findall('\\d','12ma1a0558')\n",
    "re.findall('\\D','12ma1a0558')\n",
    "re.findall('\\W','ammu.p@apssdc.in')\n",
    "re.findall('\\w','123ammu_.p@apssdc.in')\n",
    "# mobileno\n",
    "re.search('^[6-9][0-9]{9}$| ^[0][6-9]{0-9}{9}$ | [+][9][1][6-9]{0-9}{9}$','8949066789')"
   ]
  },
  {
   "cell_type": "code",
   "execution_count": null,
   "metadata": {},
   "outputs": [],
   "source": [
    "# Modules And Packages\n",
    " + one file python contains no.of functions\n",
    " + no.of python files in one order\n",
    " + if want to use modules"
   ]
  },
  {
   "cell_type": "code",
   "execution_count": null,
   "metadata": {},
   "outputs": [],
   "source": []
  }
 ],
 "metadata": {
  "kernelspec": {
   "display_name": "Python 3",
   "language": "python",
   "name": "python3"
  },
  "language_info": {
   "codemirror_mode": {
    "name": "ipython",
    "version": 3
   },
   "file_extension": ".py",
   "mimetype": "text/x-python",
   "name": "python",
   "nbconvert_exporter": "python",
   "pygments_lexer": "ipython3",
   "version": "3.7.3"
  }
 },
 "nbformat": 4,
 "nbformat_minor": 2
}
