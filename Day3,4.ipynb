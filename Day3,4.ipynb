{
 "cells": [
  {
   "cell_type": "markdown",
   "metadata": {},
   "source": [
    "# today agenda\n",
    "# userdefined\n",
    "# string\n",
    "# lists\n",
    "# tuple\n",
    "# dictinory\n",
    "# sets"
   ]
  },
  {
   "cell_type": "code",
   "execution_count": null,
   "metadata": {},
   "outputs": [],
   "source": [
    "# user defined function\n",
    "# block of statements to perform particular task\n",
    "# code reusebility\n",
    "# time will be save\n",
    "# def functionname(arguments/parameters):\n",
    "    #statements \n",
    "# calling function\n",
    "# function name(arguments/parameters)"
   ]
  },
  {
   "cell_type": "code",
   "execution_count": null,
   "metadata": {},
   "outputs": [],
   "source": [
    "# with arguments with returntype\n",
    "# without arguments with returntype\n",
    "# without arguments without returntype\n",
    "# with arguments without returntype\n",
    "\n",
    "\n",
    "# required argument/positional argument\n",
    "# keyword argument\n",
    "# default argument\n",
    "# variable argument"
   ]
  },
  {
   "cell_type": "code",
   "execution_count": null,
   "metadata": {},
   "outputs": [],
   "source": [
    "def sample():\n",
    "    print('Welcome')\n",
    "print('python workshop')\n",
    "sample()"
   ]
  },
  {
   "cell_type": "code",
   "execution_count": null,
   "metadata": {},
   "outputs": [],
   "source": [
    "def sample():\n",
    "    pass\n",
    "print('python workshop')\n",
    "sample()"
   ]
  },
  {
   "cell_type": "code",
   "execution_count": null,
   "metadata": {},
   "outputs": [],
   "source": [
    "# with arguments with returntype\n",
    "def add(a,b,):\n",
    "    c=a+b\n",
    "    return('add of two num is',c)\n",
    "add(10,20)"
   ]
  },
  {
   "cell_type": "code",
   "execution_count": null,
   "metadata": {},
   "outputs": [],
   "source": [
    "# without arguments with returntype\n",
    "def sub():\n",
    "    a=20\n",
    "    b=30\n",
    "    return a-b\n",
    "sub()"
   ]
  },
  {
   "cell_type": "code",
   "execution_count": null,
   "metadata": {},
   "outputs": [],
   "source": [
    "# without arguments without returntype\n",
    "def mul():\n",
    "    n=10\n",
    "    m=20\n",
    "    print('multiplication of %d * %d=%d'%(n,m,n*m))\n",
    "mul()"
   ]
  },
  {
   "cell_type": "code",
   "execution_count": null,
   "metadata": {},
   "outputs": [],
   "source": [
    "# with arguments without returntype\n",
    "def div(p,q):\n",
    "    print(p/q)\n",
    "div(10,20)"
   ]
  },
  {
   "cell_type": "code",
   "execution_count": null,
   "metadata": {},
   "outputs": [],
   "source": [
    "def sum1(a,b):\n",
    "    return 'sum of %d + %d = %d'%(a,b,a+b)\n",
    "a=int(input('enter value'))\n",
    "b=int(input('enter value'))\n",
    "sum1(a,b)"
   ]
  },
  {
   "cell_type": "code",
   "execution_count": null,
   "metadata": {},
   "outputs": [],
   "source": [
    "# required/positional argument\n",
    "def interest(p,t,r):\n",
    "    total=p*t*r/100\n",
    "    return total\n",
    "p=int(input('enter principal amount: '))\n",
    "t=float(input('enter time: '))\n",
    "r=float(input('enter rate: '))\n",
    "interest(p,t,r)"
   ]
  },
  {
   "cell_type": "code",
   "execution_count": null,
   "metadata": {},
   "outputs": [],
   "source": [
    "# keyword argument\n",
    "def simple(p,t,r):\n",
    "    total=p*t*r/100\n",
    "    return total\n",
    "simple(t=2.0,r=1.50,p=10000)# static\n",
    "simple(t=t,r=r,p=p)# dynamic"
   ]
  },
  {
   "cell_type": "code",
   "execution_count": null,
   "metadata": {},
   "outputs": [],
   "source": [
    "# default argument\n",
    "def simple1(p=1000,t=2.0,r=3.0):\n",
    "    print(p*t*r/100)\n",
    "simple1()"
   ]
  },
  {
   "cell_type": "code",
   "execution_count": null,
   "metadata": {},
   "outputs": [],
   "source": [
    "# variable length argument\n",
    "def var_sum(*a):\n",
    "    s=0\n",
    "    for i in a:\n",
    "        s+=i\n",
    "    #print(s+=1)\n",
    "    print(s)\n",
    "var_sum(1,2,3,4,5,6)"
   ]
  },
  {
   "cell_type": "code",
   "execution_count": 6,
   "metadata": {},
   "outputs": [
    {
     "name": "stdout",
     "output_type": "stream",
     "text": [
      "1.add\n",
      "2.sub\n",
      "3.mul\n",
      "4.div\n",
      "5.mod\n",
      "6.pow\n",
      "7.floor div\n",
      "choose your operation\n",
      "select option input box-1 or 2 or 3 or 4 or 5 or 6 or 7\n",
      "enter the value1\n",
      "enter the value6\n"
     ]
    }
   ],
   "source": [
    "def Arithmetic_calculation():\n",
    "    print('1.add')\n",
    "    print('2.sub')\n",
    "    print('3.mul')\n",
    "    print('4.div')\n",
    "    print('5.mod')\n",
    "    print('6.pow')\n",
    "    print('7.floor div')\n",
    "    print('choose your operation')\n",
    "    print('select option input box-1 or 2 or 3 or 4 or 5 or 6 or 7')\n",
    "    a=int(input('enter the value'))\n",
    "    b=int(input('enter the value'))\n",
    "Arithmetic_calculation()"
   ]
  },
  {
   "cell_type": "code",
   "execution_count": null,
   "metadata": {},
   "outputs": [],
   "source": []
  }
 ],
 "metadata": {
  "kernelspec": {
   "display_name": "Python 3",
   "language": "python",
   "name": "python3"
  },
  "language_info": {
   "codemirror_mode": {
    "name": "ipython",
    "version": 3
   },
   "file_extension": ".py",
   "mimetype": "text/x-python",
   "name": "python",
   "nbconvert_exporter": "python",
   "pygments_lexer": "ipython3",
   "version": "3.7.3"
  }
 },
 "nbformat": 4,
 "nbformat_minor": 2
}
